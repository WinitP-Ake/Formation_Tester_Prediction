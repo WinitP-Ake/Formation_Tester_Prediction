{
 "cells": [
  {
   "cell_type": "code",
   "execution_count": 1,
   "metadata": {
    "ExecuteTime": {
     "end_time": "2020-01-21T14:58:14.207936Z",
     "start_time": "2020-01-21T14:58:14.176699Z"
    }
   },
   "outputs": [],
   "source": [
    "%load_ext autoreload\n",
    "%autoreload 2"
   ]
  },
  {
   "cell_type": "code",
   "execution_count": 2,
   "metadata": {
    "ExecuteTime": {
     "end_time": "2020-01-21T14:58:16.638996Z",
     "start_time": "2020-01-21T14:58:14.212564Z"
    }
   },
   "outputs": [],
   "source": [
    "import scipy.ndimage\n",
    "from matplotlib import pyplot as plt\n",
    "from wtn_mdt.feature_xclass import FeatureXClass\n",
    "from wtn_mdt.data_loader import load_all_data_df\n",
    "from wtn_mdt.classifiers import create_and_train_classifiers\n",
    "from wtn_mdt.sample import get_train_test_sample_dict\n",
    "from wtn_mdt.prob_plot import prob_plot\n",
    "import wtn_mdt as wm"
   ]
  },
  {
   "cell_type": "code",
   "execution_count": 3,
   "metadata": {
    "ExecuteTime": {
     "end_time": "2020-01-21T14:58:16.702978Z",
     "start_time": "2020-01-21T14:58:16.644603Z"
    }
   },
   "outputs": [],
   "source": [
    "import numpy as np\n",
    "import math"
   ]
  },
  {
   "cell_type": "markdown",
   "metadata": {},
   "source": [
    "## 1. Load data\n",
    "\n",
    "#### [After review]\n",
    "- Should remove lost_seal from xclass = 0, since the lost_seal is tool failure not formation problem\n",
    "- "
   ]
  },
  {
   "cell_type": "code",
   "execution_count": 13,
   "metadata": {},
   "outputs": [
    {
     "data": {
      "text/plain": [
       "<wtn_mdt.feature_xclass.FeatureXClass at 0x29c27f3b2c8>"
      ]
     },
     "execution_count": 13,
     "metadata": {},
     "output_type": "execute_result"
    }
   ],
   "source": [
    "xx = FeatureXClass(features = all_areas_sample['ALL'].test_sample.features,\n",
    "                   xclass   = all_areas_sample['ALL'].test_sample.xclass\n",
    "                  )\n"
   ]
  },
  {
   "cell_type": "code",
   "execution_count": 17,
   "metadata": {},
   "outputs": [
    {
     "data": {
      "text/html": [
       "<div>\n",
       "<style scoped>\n",
       "    .dataframe tbody tr th:only-of-type {\n",
       "        vertical-align: middle;\n",
       "    }\n",
       "\n",
       "    .dataframe tbody tr th {\n",
       "        vertical-align: top;\n",
       "    }\n",
       "\n",
       "    .dataframe thead th {\n",
       "        text-align: right;\n",
       "    }\n",
       "</style>\n",
       "<table border=\"1\" class=\"dataframe\">\n",
       "  <thead>\n",
       "    <tr style=\"text-align: right;\">\n",
       "      <th></th>\n",
       "      <th>GR</th>\n",
       "      <th>log_RT</th>\n",
       "      <th>DEN</th>\n",
       "      <th>NPHI</th>\n",
       "    </tr>\n",
       "  </thead>\n",
       "  <tbody>\n",
       "    <tr>\n",
       "      <th>157</th>\n",
       "      <td>60.268627</td>\n",
       "      <td>0.108640</td>\n",
       "      <td>2.247290</td>\n",
       "      <td>0.257867</td>\n",
       "    </tr>\n",
       "    <tr>\n",
       "      <th>158</th>\n",
       "      <td>76.819839</td>\n",
       "      <td>0.957813</td>\n",
       "      <td>2.312559</td>\n",
       "      <td>0.261359</td>\n",
       "    </tr>\n",
       "    <tr>\n",
       "      <th>159</th>\n",
       "      <td>75.377892</td>\n",
       "      <td>0.751787</td>\n",
       "      <td>2.395891</td>\n",
       "      <td>0.180715</td>\n",
       "    </tr>\n",
       "    <tr>\n",
       "      <th>160</th>\n",
       "      <td>39.462032</td>\n",
       "      <td>2.196141</td>\n",
       "      <td>1.965150</td>\n",
       "      <td>0.085492</td>\n",
       "    </tr>\n",
       "    <tr>\n",
       "      <th>161</th>\n",
       "      <td>38.845818</td>\n",
       "      <td>2.022112</td>\n",
       "      <td>2.038624</td>\n",
       "      <td>0.078222</td>\n",
       "    </tr>\n",
       "    <tr>\n",
       "      <th>...</th>\n",
       "      <td>...</td>\n",
       "      <td>...</td>\n",
       "      <td>...</td>\n",
       "      <td>...</td>\n",
       "    </tr>\n",
       "    <tr>\n",
       "      <th>14112</th>\n",
       "      <td>39.288956</td>\n",
       "      <td>-0.961796</td>\n",
       "      <td>2.166796</td>\n",
       "      <td>0.283957</td>\n",
       "    </tr>\n",
       "    <tr>\n",
       "      <th>14113</th>\n",
       "      <td>33.933788</td>\n",
       "      <td>-0.950326</td>\n",
       "      <td>2.175526</td>\n",
       "      <td>0.292896</td>\n",
       "    </tr>\n",
       "    <tr>\n",
       "      <th>14114</th>\n",
       "      <td>89.106331</td>\n",
       "      <td>0.545381</td>\n",
       "      <td>2.448305</td>\n",
       "      <td>0.281712</td>\n",
       "    </tr>\n",
       "    <tr>\n",
       "      <th>14115</th>\n",
       "      <td>32.763771</td>\n",
       "      <td>-1.366704</td>\n",
       "      <td>2.138260</td>\n",
       "      <td>0.327745</td>\n",
       "    </tr>\n",
       "    <tr>\n",
       "      <th>14116</th>\n",
       "      <td>43.395962</td>\n",
       "      <td>-0.489219</td>\n",
       "      <td>2.230976</td>\n",
       "      <td>0.291191</td>\n",
       "    </tr>\n",
       "  </tbody>\n",
       "</table>\n",
       "<p>935 rows × 4 columns</p>\n",
       "</div>"
      ],
      "text/plain": [
       "              GR    log_RT       DEN      NPHI\n",
       "157    60.268627  0.108640  2.247290  0.257867\n",
       "158    76.819839  0.957813  2.312559  0.261359\n",
       "159    75.377892  0.751787  2.395891  0.180715\n",
       "160    39.462032  2.196141  1.965150  0.085492\n",
       "161    38.845818  2.022112  2.038624  0.078222\n",
       "...          ...       ...       ...       ...\n",
       "14112  39.288956 -0.961796  2.166796  0.283957\n",
       "14113  33.933788 -0.950326  2.175526  0.292896\n",
       "14114  89.106331  0.545381  2.448305  0.281712\n",
       "14115  32.763771 -1.366704  2.138260  0.327745\n",
       "14116  43.395962 -0.489219  2.230976  0.291191\n",
       "\n",
       "[935 rows x 4 columns]"
      ]
     },
     "execution_count": 17,
     "metadata": {},
     "output_type": "execute_result"
    }
   ],
   "source": [
    "xx.features"
   ]
  },
  {
   "cell_type": "code",
   "execution_count": 7,
   "metadata": {},
   "outputs": [
    {
     "name": "stdout",
     "output_type": "stream",
     "text": [
      "    WellID zone  Category  xclass         GR    log_RT       DEN      NPHI\n",
      "0  KMG-A05  KMG    Normal       1  61.816006  0.396843  2.233575  0.280175\n",
      "1  KMG-A05  KMG  Unstable       0  74.641136  0.213004  2.331733  0.231320\n",
      "2  KMG-A05  KMG       Dry       0  81.437202  0.642859  2.319377  0.277644\n",
      "3  KMG-A05  KMG    Normal       1  26.831823 -0.986558  2.049984  0.315727\n",
      "4  KMG-A05  KMG    Normal       1  31.625257 -0.821219  2.088279  0.258530\n",
      "(15924, 8)\n"
     ]
    }
   ],
   "source": [
    "all_data_df = load_all_data_df() # load data from all_data.xlsx\n",
    "print(all_data_df.head())\n",
    "print(all_data_df.shape)\n"
   ]
  },
  {
   "cell_type": "code",
   "execution_count": 8,
   "metadata": {},
   "outputs": [
    {
     "data": {
      "text/plain": [
       "(15681, 8)"
      ]
     },
     "execution_count": 8,
     "metadata": {},
     "output_type": "execute_result"
    }
   ],
   "source": [
    "# remove lost_seal from category\n",
    "# select only some category without doubt and lost_seal\n",
    "all_data_df = all_data_df[all_data_df['Category'].isin(['Normal','Dry','Tight','Unstable','Limited_drawdown','Superchange'])]\n",
    "all_data_df.shape"
   ]
  },
  {
   "cell_type": "markdown",
   "metadata": {},
   "source": [
    "### 1.2 Prepare test, train, by-area"
   ]
  },
  {
   "cell_type": "code",
   "execution_count": 9,
   "metadata": {
    "ExecuteTime": {
     "end_time": "2020-01-21T14:58:18.883907Z",
     "start_time": "2020-01-21T14:58:16.706631Z"
    }
   },
   "outputs": [
    {
     "data": {
      "text/plain": [
       "{'LKU': <wtn_mdt.train_test_sample.TrainTestSample at 0x29c2732e988>,\n",
       " 'WTN': <wtn_mdt.train_test_sample.TrainTestSample at 0x29c273290c8>,\n",
       " 'TRT': <wtn_mdt.train_test_sample.TrainTestSample at 0x29c27323e88>,\n",
       " 'ALL': <wtn_mdt.train_test_sample.TrainTestSample at 0x29c26f88ac8>}"
      ]
     },
     "execution_count": 9,
     "metadata": {},
     "output_type": "execute_result"
    }
   ],
   "source": [
    "\n",
    "#all_data_fxc = FeatureXClass.from_df(all_data_df) # --> .features is data only, .xclass is label only\n",
    "all_areas_sample = get_train_test_sample_dict(all_data_df, train_ratio = 1) # --> separate area and test train splitting\n",
    "# e.g. all_areas_sample['ALL'].test_sample.xclass, all_areas_sample['ALL'].test_sample.feature\n",
    "all_areas_sample"
   ]
  },
  {
   "cell_type": "code",
   "execution_count": 12,
   "metadata": {},
   "outputs": [
    {
     "data": {
      "text/plain": [
       "197      1\n",
       "198      1\n",
       "199      0\n",
       "200      0\n",
       "201      0\n",
       "        ..\n",
       "14087    1\n",
       "14088    0\n",
       "14090    1\n",
       "14091    1\n",
       "14092    1\n",
       "Name: xclass, Length: 14746, dtype: int64"
      ]
     },
     "execution_count": 12,
     "metadata": {},
     "output_type": "execute_result"
    }
   ],
   "source": [
    "all_areas_sample['ALL'].train_sample.xclass"
   ]
  },
  {
   "cell_type": "code",
   "execution_count": 10,
   "metadata": {},
   "outputs": [
    {
     "data": {
      "text/plain": [
       "157      1\n",
       "158      1\n",
       "159      1\n",
       "160      1\n",
       "161      1\n",
       "        ..\n",
       "14112    1\n",
       "14113    1\n",
       "14114    0\n",
       "14115    1\n",
       "14116    1\n",
       "Name: xclass, Length: 935, dtype: int64"
      ]
     },
     "execution_count": 10,
     "metadata": {},
     "output_type": "execute_result"
    }
   ],
   "source": [
    "all_areas_sample['ALL'].test_sample.xclass"
   ]
  },
  {
   "cell_type": "code",
   "execution_count": 10,
   "metadata": {},
   "outputs": [
    {
     "data": {
      "text/html": [
       "<div>\n",
       "<style scoped>\n",
       "    .dataframe tbody tr th:only-of-type {\n",
       "        vertical-align: middle;\n",
       "    }\n",
       "\n",
       "    .dataframe tbody tr th {\n",
       "        vertical-align: top;\n",
       "    }\n",
       "\n",
       "    .dataframe thead th {\n",
       "        text-align: right;\n",
       "    }\n",
       "</style>\n",
       "<table border=\"1\" class=\"dataframe\">\n",
       "  <thead>\n",
       "    <tr style=\"text-align: right;\">\n",
       "      <th></th>\n",
       "      <th>GR</th>\n",
       "      <th>log_RT</th>\n",
       "      <th>DEN</th>\n",
       "      <th>NPHI</th>\n",
       "    </tr>\n",
       "  </thead>\n",
       "  <tbody>\n",
       "    <tr>\n",
       "      <th>26</th>\n",
       "      <td>73.438400</td>\n",
       "      <td>2.165991</td>\n",
       "      <td>2.411818</td>\n",
       "      <td>0.210012</td>\n",
       "    </tr>\n",
       "    <tr>\n",
       "      <th>27</th>\n",
       "      <td>81.797356</td>\n",
       "      <td>1.808486</td>\n",
       "      <td>2.434277</td>\n",
       "      <td>0.154629</td>\n",
       "    </tr>\n",
       "    <tr>\n",
       "      <th>28</th>\n",
       "      <td>74.609734</td>\n",
       "      <td>1.743315</td>\n",
       "      <td>2.410362</td>\n",
       "      <td>0.213373</td>\n",
       "    </tr>\n",
       "    <tr>\n",
       "      <th>29</th>\n",
       "      <td>72.925171</td>\n",
       "      <td>0.826409</td>\n",
       "      <td>2.452090</td>\n",
       "      <td>0.191561</td>\n",
       "    </tr>\n",
       "    <tr>\n",
       "      <th>30</th>\n",
       "      <td>64.789558</td>\n",
       "      <td>1.691495</td>\n",
       "      <td>2.203362</td>\n",
       "      <td>0.255715</td>\n",
       "    </tr>\n",
       "    <tr>\n",
       "      <th>...</th>\n",
       "      <td>...</td>\n",
       "      <td>...</td>\n",
       "      <td>...</td>\n",
       "      <td>...</td>\n",
       "    </tr>\n",
       "    <tr>\n",
       "      <th>14066</th>\n",
       "      <td>33.302689</td>\n",
       "      <td>-0.046333</td>\n",
       "      <td>2.220717</td>\n",
       "      <td>0.260381</td>\n",
       "    </tr>\n",
       "    <tr>\n",
       "      <th>14067</th>\n",
       "      <td>36.912094</td>\n",
       "      <td>-0.293047</td>\n",
       "      <td>2.282738</td>\n",
       "      <td>0.246978</td>\n",
       "    </tr>\n",
       "    <tr>\n",
       "      <th>14068</th>\n",
       "      <td>33.671135</td>\n",
       "      <td>0.579134</td>\n",
       "      <td>2.348751</td>\n",
       "      <td>0.219291</td>\n",
       "    </tr>\n",
       "    <tr>\n",
       "      <th>14069</th>\n",
       "      <td>39.993858</td>\n",
       "      <td>-0.346132</td>\n",
       "      <td>2.277483</td>\n",
       "      <td>0.244357</td>\n",
       "    </tr>\n",
       "    <tr>\n",
       "      <th>14070</th>\n",
       "      <td>53.472622</td>\n",
       "      <td>0.635394</td>\n",
       "      <td>2.353850</td>\n",
       "      <td>0.221604</td>\n",
       "    </tr>\n",
       "  </tbody>\n",
       "</table>\n",
       "<p>1277 rows × 4 columns</p>\n",
       "</div>"
      ],
      "text/plain": [
       "              GR    log_RT       DEN      NPHI\n",
       "26     73.438400  2.165991  2.411818  0.210012\n",
       "27     81.797356  1.808486  2.434277  0.154629\n",
       "28     74.609734  1.743315  2.410362  0.213373\n",
       "29     72.925171  0.826409  2.452090  0.191561\n",
       "30     64.789558  1.691495  2.203362  0.255715\n",
       "...          ...       ...       ...       ...\n",
       "14066  33.302689 -0.046333  2.220717  0.260381\n",
       "14067  36.912094 -0.293047  2.282738  0.246978\n",
       "14068  33.671135  0.579134  2.348751  0.219291\n",
       "14069  39.993858 -0.346132  2.277483  0.244357\n",
       "14070  53.472622  0.635394  2.353850  0.221604\n",
       "\n",
       "[1277 rows x 4 columns]"
      ]
     },
     "execution_count": 10,
     "metadata": {},
     "output_type": "execute_result"
    }
   ],
   "source": [
    "all_areas_sample['ALL'].test_sample.features"
   ]
  },
  {
   "cell_type": "markdown",
   "metadata": {},
   "source": [
    "## 2. Train model\n",
    "\n",
    "#### [PE review]\n",
    "- Use all data, including test and train data"
   ]
  },
  {
   "cell_type": "code",
   "execution_count": 11,
   "metadata": {},
   "outputs": [
    {
     "data": {
      "text/html": [
       "<div>\n",
       "<style scoped>\n",
       "    .dataframe tbody tr th:only-of-type {\n",
       "        vertical-align: middle;\n",
       "    }\n",
       "\n",
       "    .dataframe tbody tr th {\n",
       "        vertical-align: top;\n",
       "    }\n",
       "\n",
       "    .dataframe thead th {\n",
       "        text-align: right;\n",
       "    }\n",
       "</style>\n",
       "<table border=\"1\" class=\"dataframe\">\n",
       "  <thead>\n",
       "    <tr style=\"text-align: right;\">\n",
       "      <th></th>\n",
       "      <th>GR</th>\n",
       "      <th>log_RT</th>\n",
       "      <th>DEN</th>\n",
       "      <th>NPHI</th>\n",
       "    </tr>\n",
       "  </thead>\n",
       "  <tbody>\n",
       "    <tr>\n",
       "      <th>197</th>\n",
       "      <td>59.163257</td>\n",
       "      <td>2.725415</td>\n",
       "      <td>2.201408</td>\n",
       "      <td>0.157908</td>\n",
       "    </tr>\n",
       "    <tr>\n",
       "      <th>198</th>\n",
       "      <td>60.759612</td>\n",
       "      <td>2.194137</td>\n",
       "      <td>2.260776</td>\n",
       "      <td>0.218725</td>\n",
       "    </tr>\n",
       "    <tr>\n",
       "      <th>199</th>\n",
       "      <td>50.657937</td>\n",
       "      <td>2.720547</td>\n",
       "      <td>2.120974</td>\n",
       "      <td>0.157416</td>\n",
       "    </tr>\n",
       "    <tr>\n",
       "      <th>200</th>\n",
       "      <td>92.732704</td>\n",
       "      <td>1.859195</td>\n",
       "      <td>2.276252</td>\n",
       "      <td>0.227295</td>\n",
       "    </tr>\n",
       "    <tr>\n",
       "      <th>201</th>\n",
       "      <td>80.620922</td>\n",
       "      <td>1.908022</td>\n",
       "      <td>2.250744</td>\n",
       "      <td>0.210688</td>\n",
       "    </tr>\n",
       "    <tr>\n",
       "      <th>...</th>\n",
       "      <td>...</td>\n",
       "      <td>...</td>\n",
       "      <td>...</td>\n",
       "      <td>...</td>\n",
       "    </tr>\n",
       "    <tr>\n",
       "      <th>14112</th>\n",
       "      <td>39.288956</td>\n",
       "      <td>-0.961796</td>\n",
       "      <td>2.166796</td>\n",
       "      <td>0.283957</td>\n",
       "    </tr>\n",
       "    <tr>\n",
       "      <th>14113</th>\n",
       "      <td>33.933788</td>\n",
       "      <td>-0.950326</td>\n",
       "      <td>2.175526</td>\n",
       "      <td>0.292896</td>\n",
       "    </tr>\n",
       "    <tr>\n",
       "      <th>14114</th>\n",
       "      <td>89.106331</td>\n",
       "      <td>0.545381</td>\n",
       "      <td>2.448305</td>\n",
       "      <td>0.281712</td>\n",
       "    </tr>\n",
       "    <tr>\n",
       "      <th>14115</th>\n",
       "      <td>32.763771</td>\n",
       "      <td>-1.366704</td>\n",
       "      <td>2.138260</td>\n",
       "      <td>0.327745</td>\n",
       "    </tr>\n",
       "    <tr>\n",
       "      <th>14116</th>\n",
       "      <td>43.395962</td>\n",
       "      <td>-0.489219</td>\n",
       "      <td>2.230976</td>\n",
       "      <td>0.291191</td>\n",
       "    </tr>\n",
       "  </tbody>\n",
       "</table>\n",
       "<p>14404 rows × 4 columns</p>\n",
       "</div>"
      ],
      "text/plain": [
       "              GR    log_RT       DEN      NPHI\n",
       "197    59.163257  2.725415  2.201408  0.157908\n",
       "198    60.759612  2.194137  2.260776  0.218725\n",
       "199    50.657937  2.720547  2.120974  0.157416\n",
       "200    92.732704  1.859195  2.276252  0.227295\n",
       "201    80.620922  1.908022  2.250744  0.210688\n",
       "...          ...       ...       ...       ...\n",
       "14112  39.288956 -0.961796  2.166796  0.283957\n",
       "14113  33.933788 -0.950326  2.175526  0.292896\n",
       "14114  89.106331  0.545381  2.448305  0.281712\n",
       "14115  32.763771 -1.366704  2.138260  0.327745\n",
       "14116  43.395962 -0.489219  2.230976  0.291191\n",
       "\n",
       "[14404 rows x 4 columns]"
      ]
     },
     "execution_count": 11,
     "metadata": {},
     "output_type": "execute_result"
    }
   ],
   "source": [
    "all_areas_sample['ALL'].train_sample.features"
   ]
  },
  {
   "cell_type": "code",
   "execution_count": 15,
   "metadata": {
    "ExecuteTime": {
     "end_time": "2020-01-21T14:58:20.250714Z",
     "start_time": "2020-01-21T14:58:18.886524Z"
    }
   },
   "outputs": [
    {
     "data": {
      "text/plain": [
       "{'logit_log_RT': Pipeline(memory=None,\n",
       "          steps=[('select_col',\n",
       "                  <wtn_mdt.classifiers.ColumnExtractor object at 0x000001F1B0AF1E08>),\n",
       "                 ('logistic',\n",
       "                  LogisticRegression(C=1.0, class_weight=None, dual=False,\n",
       "                                     fit_intercept=True, intercept_scaling=1,\n",
       "                                     l1_ratio=None, max_iter=1000,\n",
       "                                     multi_class='auto', n_jobs=None,\n",
       "                                     penalty='none', random_state=None,\n",
       "                                     solver='lbfgs', tol=0.0001, verbose=0,\n",
       "                                     warm_start=False))],\n",
       "          verbose=False),\n",
       " 'logit_DEN': Pipeline(memory=None,\n",
       "          steps=[('select_col',\n",
       "                  <wtn_mdt.classifiers.ColumnExtractor object at 0x000001F1B0AF1F48>),\n",
       "                 ('logistic',\n",
       "                  LogisticRegression(C=1.0, class_weight=None, dual=False,\n",
       "                                     fit_intercept=True, intercept_scaling=1,\n",
       "                                     l1_ratio=None, max_iter=1000,\n",
       "                                     multi_class='auto', n_jobs=None,\n",
       "                                     penalty='none', random_state=None,\n",
       "                                     solver='lbfgs', tol=0.0001, verbose=0,\n",
       "                                     warm_start=False))],\n",
       "          verbose=False),\n",
       " 'logit_GR': Pipeline(memory=None,\n",
       "          steps=[('select_col',\n",
       "                  <wtn_mdt.classifiers.ColumnExtractor object at 0x000001F1B0AF1F08>),\n",
       "                 ('logistic',\n",
       "                  LogisticRegression(C=1.0, class_weight=None, dual=False,\n",
       "                                     fit_intercept=True, intercept_scaling=1,\n",
       "                                     l1_ratio=None, max_iter=1000,\n",
       "                                     multi_class='auto', n_jobs=None,\n",
       "                                     penalty='none', random_state=None,\n",
       "                                     solver='lbfgs', tol=0.0001, verbose=0,\n",
       "                                     warm_start=False))],\n",
       "          verbose=False),\n",
       " 'logit_NPHI': Pipeline(memory=None,\n",
       "          steps=[('select_col',\n",
       "                  <wtn_mdt.classifiers.ColumnExtractor object at 0x000001F1B0D1B108>),\n",
       "                 ('logistic',\n",
       "                  LogisticRegression(C=1.0, class_weight=None, dual=False,\n",
       "                                     fit_intercept=True, intercept_scaling=1,\n",
       "                                     l1_ratio=None, max_iter=1000,\n",
       "                                     multi_class='auto', n_jobs=None,\n",
       "                                     penalty='none', random_state=None,\n",
       "                                     solver='lbfgs', tol=0.0001, verbose=0,\n",
       "                                     warm_start=False))],\n",
       "          verbose=False),\n",
       " 'one_tree': DecisionTreeClassifier(ccp_alpha=0.0, class_weight=None, criterion='gini',\n",
       "                        max_depth=None, max_features=None, max_leaf_nodes=None,\n",
       "                        min_impurity_decrease=0.0, min_impurity_split=None,\n",
       "                        min_samples_leaf=10, min_samples_split=2,\n",
       "                        min_weight_fraction_leaf=0.0, presort='deprecated',\n",
       "                        random_state=None, splitter='best'),\n",
       " 'random_forest': RandomForestClassifier(bootstrap=True, ccp_alpha=0.0, class_weight=None,\n",
       "                        criterion='gini', max_depth=2, max_features='auto',\n",
       "                        max_leaf_nodes=None, max_samples=None,\n",
       "                        min_impurity_decrease=0.0, min_impurity_split=None,\n",
       "                        min_samples_leaf=1, min_samples_split=2,\n",
       "                        min_weight_fraction_leaf=0.0, n_estimators=100,\n",
       "                        n_jobs=None, oob_score=False, random_state=None,\n",
       "                        verbose=0, warm_start=False),\n",
       " 'logit_no_penalty': LogisticRegression(C=1.0, class_weight=None, dual=False, fit_intercept=True,\n",
       "                    intercept_scaling=1, l1_ratio=None, max_iter=1000,\n",
       "                    multi_class='auto', n_jobs=None, penalty='none',\n",
       "                    random_state=None, solver='lbfgs', tol=0.0001, verbose=0,\n",
       "                    warm_start=False),\n",
       " 'logit_default': LogisticRegression(C=1.0, class_weight=None, dual=False, fit_intercept=True,\n",
       "                    intercept_scaling=1, l1_ratio=None, max_iter=100,\n",
       "                    multi_class='auto', n_jobs=None, penalty='l2',\n",
       "                    random_state=None, solver='lbfgs', tol=0.0001, verbose=0,\n",
       "                    warm_start=False),\n",
       " 'para_logit_100': Pipeline(memory=None,\n",
       "          steps=[('poly',\n",
       "                  PolynomialFeatures(degree=2, include_bias=True,\n",
       "                                     interaction_only=False, order='C')),\n",
       "                 ('logistic',\n",
       "                  LogisticRegression(C=1.0, class_weight=None, dual=False,\n",
       "                                     fit_intercept=True, intercept_scaling=1,\n",
       "                                     l1_ratio=None, max_iter=1000,\n",
       "                                     multi_class='auto', n_jobs=None,\n",
       "                                     penalty='none', random_state=None,\n",
       "                                     solver='lbfgs', tol=0.0001, verbose=0,\n",
       "                                     warm_start=False))],\n",
       "          verbose=False),\n",
       " 'para_logit_DEN_GR': Pipeline(memory=None,\n",
       "          steps=[('select_col',\n",
       "                  <wtn_mdt.classifiers.ColumnExtractor object at 0x000001F1B0D1B388>),\n",
       "                 ('poly',\n",
       "                  PolynomialFeatures(degree=2, include_bias=True,\n",
       "                                     interaction_only=False, order='C')),\n",
       "                 ('logistic',\n",
       "                  LogisticRegression(C=1.0, class_weight=None, dual=False,\n",
       "                                     fit_intercept=True, intercept_scaling=1,\n",
       "                                     l1_ratio=None, max_iter=1000,\n",
       "                                     multi_class='auto', n_jobs=None,\n",
       "                                     penalty='none', random_state=None,\n",
       "                                     solver='lbfgs', tol=0.0001, verbose=0,\n",
       "                                     warm_start=False))],\n",
       "          verbose=False),\n",
       " 'lgbm_default': LGBMClassifier(boosting_type='gbdt', class_weight=None, colsample_bytree=1.0,\n",
       "                importance_type='split', learning_rate=0.1, max_depth=-1,\n",
       "                min_child_samples=20, min_child_weight=0.001, min_split_gain=0.0,\n",
       "                n_estimators=100, n_jobs=-1, num_leaves=31, objective=None,\n",
       "                random_state=None, reg_alpha=0.0, reg_lambda=0.0, silent=True,\n",
       "                subsample=1.0, subsample_for_bin=200000, subsample_freq=0),\n",
       " 'sensible_lgbm': LGBMClassifier(boosting_type='gbdt', class_weight=None, colsample_bytree=1.0,\n",
       "                importance_type='split', learning_rate=0.1, max_depth=2,\n",
       "                min_child_samples=20, min_child_weight=0.001, min_split_gain=0.0,\n",
       "                n_estimators=100, n_jobs=-1, num_leaves=31, objective=None,\n",
       "                random_state=None, reg_alpha=0.0, reg_lambda=0.0, silent=True,\n",
       "                subsample=1.0, subsample_for_bin=200000, subsample_freq=0)}"
      ]
     },
     "execution_count": 15,
     "metadata": {},
     "output_type": "execute_result"
    }
   ],
   "source": [
    "all_sample = all_areas_sample['ALL'] # get all area somple representative\n",
    "classifiers = create_and_train_classifiers(xx)#all_sample.train_sample) # use data to create and train model (multiple model)\n",
    "classifiers"
   ]
  },
  {
   "cell_type": "code",
   "execution_count": 16,
   "metadata": {
    "ExecuteTime": {
     "end_time": "2020-01-21T14:58:20.304217Z",
     "start_time": "2020-01-21T14:58:20.253329Z"
    }
   },
   "outputs": [
    {
     "name": "stdout",
     "output_type": "stream",
     "text": [
      "dict_keys(['logit_log_RT', 'logit_DEN', 'logit_GR', 'logit_NPHI', 'one_tree', 'random_forest', 'logit_no_penalty', 'logit_default', 'para_logit_100', 'para_logit_DEN_GR', 'lgbm_default', 'sensible_lgbm'])\n"
     ]
    }
   ],
   "source": [
    "print(classifiers.keys()) # model for classifier"
   ]
  },
  {
   "cell_type": "markdown",
   "metadata": {},
   "source": [
    "## 3. Printout the formular for using in MS-Excel\n",
    "- Warning: Correlation of resistivity is non-linear (see plot in Excel)"
   ]
  },
  {
   "cell_type": "code",
   "execution_count": 17,
   "metadata": {},
   "outputs": [
    {
     "data": {
      "text/plain": [
       "array([0.05438908])"
      ]
     },
     "execution_count": 17,
     "metadata": {},
     "output_type": "execute_result"
    }
   ],
   "source": [
    "intercept = classifiers['para_logit_100']['logistic'].intercept_\n",
    "intercept"
   ]
  },
  {
   "cell_type": "code",
   "execution_count": 18,
   "metadata": {},
   "outputs": [
    {
     "name": "stdout",
     "output_type": "stream",
     "text": [
      "[[ 5.43890822e-02  7.39490074e-01 -1.70857594e-02  8.90578725e-02\n",
      "   6.84101905e-03 -6.81181310e-04  4.08878263e-03 -2.92273060e-01\n",
      "  -2.00729355e-02  9.26034519e-02 -1.62121616e-01  5.77779805e-03\n",
      "   1.12525533e-01  1.21605066e-02 -1.77984643e-03]]\n"
     ]
    }
   ],
   "source": [
    "coefs = classifiers['para_logit_100']['logistic'].coef_\n",
    "print(coefs)"
   ]
  },
  {
   "cell_type": "code",
   "execution_count": 19,
   "metadata": {},
   "outputs": [
    {
     "data": {
      "text/plain": [
       "Index(['GR', 'log_RT', 'DEN', 'NPHI'], dtype='object')"
      ]
     },
     "execution_count": 19,
     "metadata": {},
     "output_type": "execute_result"
    }
   ],
   "source": [
    "# order\n",
    "all_sample.train_sample.features.columns\n",
    "\n",
    "\n"
   ]
  },
  {
   "cell_type": "code",
   "execution_count": 20,
   "metadata": {},
   "outputs": [
    {
     "data": {
      "text/plain": [
       "array([[ 1.,  2.,  3.,  5.,  7.,  4.,  6., 10., 14.,  9., 15., 21., 25.,\n",
       "        35., 49.]])"
      ]
     },
     "execution_count": 20,
     "metadata": {},
     "output_type": "execute_result"
    }
   ],
   "source": [
    "from sklearn.preprocessing import PolynomialFeatures\n",
    "PolynomialFeatures().fit_transform([[2,3,5,7]]) # all primes"
   ]
  },
  {
   "cell_type": "code",
   "execution_count": 21,
   "metadata": {},
   "outputs": [
    {
     "name": "stdout",
     "output_type": "stream",
     "text": [
      "['1', 'GR', 'log_RT', 'DEN', 'NPHI', 'GR*GR', 'GR*log_RT', 'GR*DEN', 'GR*NPHI', 'log_RT*log_RT', 'log_RT*DEN', 'log_RT*NPHI', 'DEN*DEN', 'DEN*NPHI', 'NPHI*NPHI']\n"
     ]
    }
   ],
   "source": [
    "tmp = ['1']\n",
    "columns = all_sample.train_sample.features.columns\n",
    "\n",
    "#first order\n",
    "for c in columns:\n",
    "    tmp.append(c)\n",
    "    \n",
    "#second order\n",
    "for i in range(len(columns)):\n",
    "    for j in range(i, len(columns)):\n",
    "        lcol = columns[i]\n",
    "        rcol = columns[j]\n",
    "        tmp.append(f\"{lcol}*{rcol}\")\n",
    "\n",
    "poly_features = tmp\n",
    "print(poly_features)"
   ]
  },
  {
   "cell_type": "code",
   "execution_count": 22,
   "metadata": {},
   "outputs": [
    {
     "name": "stdout",
     "output_type": "stream",
     "text": [
      "0.05438908220038127 +\n",
      "0.05438908220091148*1+ \n",
      "0.7394900735243787*GR+ \n",
      "-0.01708575939016952*log_RT+ \n",
      "0.08905787250859912*DEN+ \n",
      "0.006841019048660018*NPHI+ \n",
      "-0.0006811813102306101*GR*GR+ \n",
      "0.004088782626089155*GR*log_RT+ \n",
      "-0.2922730603594288*GR*DEN+ \n",
      "-0.020072935474646825*GR*NPHI+ \n",
      "0.09260345192403116*log_RT*log_RT+ \n",
      "-0.1621216160558394*log_RT*DEN+ \n",
      "0.005777798051337308*log_RT*NPHI+ \n",
      "0.11252553332384468*DEN*DEN+ \n",
      "0.01216050660144495*DEN*NPHI+ \n",
      "-0.0017798464321625755*NPHI*NPHI\n"
     ]
    }
   ],
   "source": [
    "formula = f\"{intercept[0]} +\\n\" + \"+ \\n\".join([f\"{coef}*{var}\" for coef, var in zip(coefs[0], poly_features)])\n",
    "print(formula)"
   ]
  },
  {
   "cell_type": "code",
   "execution_count": 23,
   "metadata": {},
   "outputs": [
    {
     "data": {
      "text/plain": [
       "(1, 15)"
      ]
     },
     "execution_count": 23,
     "metadata": {},
     "output_type": "execute_result"
    }
   ],
   "source": [
    "coefs.shape"
   ]
  },
  {
   "cell_type": "code",
   "execution_count": null,
   "metadata": {},
   "outputs": [],
   "source": []
  },
  {
   "cell_type": "code",
   "execution_count": null,
   "metadata": {},
   "outputs": [],
   "source": []
  }
 ],
 "metadata": {
  "hide_input": false,
  "kernelspec": {
   "display_name": "Python 3",
   "language": "python",
   "name": "python3"
  },
  "language_info": {
   "codemirror_mode": {
    "name": "ipython",
    "version": 3
   },
   "file_extension": ".py",
   "mimetype": "text/x-python",
   "name": "python",
   "nbconvert_exporter": "python",
   "pygments_lexer": "ipython3",
   "version": "3.7.6"
  },
  "pycharm": {
   "stem_cell": {
    "cell_type": "raw",
    "metadata": {
     "collapsed": false
    },
    "source": []
   }
  },
  "toc": {
   "base_numbering": 1,
   "nav_menu": {
    "height": "12px",
    "width": "252px"
   },
   "number_sections": false,
   "sideBar": true,
   "skip_h1_title": false,
   "title_cell": "Table of Contents",
   "title_sidebar": "Contents",
   "toc_cell": false,
   "toc_position": {},
   "toc_section_display": "block",
   "toc_window_display": false
  }
 },
 "nbformat": 4,
 "nbformat_minor": 2
}
